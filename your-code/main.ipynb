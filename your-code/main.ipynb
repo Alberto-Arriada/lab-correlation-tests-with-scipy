{
 "cells": [
  {
   "cell_type": "code",
   "execution_count": null,
   "outputs": [],
   "source": [
    "# Before your start:\n",
    "- Read the README.md file\n",
    "- Comment as much as you can and use the resources (README.md file)\n",
    "- Happy learning!"
   ],
   "metadata": {
    "collapsed": false,
    "pycharm": {
     "name": "#%%\n"
    }
   }
  },
  {
   "cell_type": "code",
   "execution_count": 1,
   "outputs": [],
   "source": [
    "%matplotlib inline\n",
    "# import numpy and pandas\n",
    "import pandas as pd\n",
    "import numpy as np\n",
    "\n"
   ],
   "metadata": {
    "collapsed": false,
    "pycharm": {
     "name": "#%%\n"
    }
   }
  },
  {
   "cell_type": "markdown",
   "source": [
    "# Challenge 1 - Analysis of Variance\n",
    "\n",
    "In this part of the lesson, we will perform an analysis of variance to determine whether the factors in our model create a significant difference in the group means. We will be examining a dataset of FIFA players. We'll start by loading the data using the code in the cell below."
   ],
   "metadata": {
    "collapsed": false
   }
  },
  {
   "cell_type": "code",
   "execution_count": 5,
   "outputs": [],
   "source": [
    "# Run this code:\n",
    "\n",
    "fifa = pd.read_csv(r'C:\\Users\\josea\\OneDrive\\Escritorio\\data_labs\\lab-correlation-tests-with-scipy\\your-code\\fifa.csv')"
   ],
   "metadata": {
    "collapsed": false,
    "pycharm": {
     "name": "#%%\n"
    }
   }
  },
  {
   "cell_type": "markdown",
   "source": [
    "Let's examine the dataset by looking at the `head`."
   ],
   "metadata": {
    "collapsed": false
   }
  },
  {
   "cell_type": "code",
   "execution_count": 6,
   "outputs": [
    {
     "data": {
      "text/plain": "                Name  Age Nationality  Overall  Potential  \\\n0           L. Messi   31   Argentina       94         94   \n1  Cristiano Ronaldo   33    Portugal       94         94   \n2          Neymar Jr   26      Brazil       92         93   \n3             De Gea   27       Spain       91         93   \n4       K. De Bruyne   27     Belgium       91         92   \n\n                  Club    Value Preferred Foot Position  Weak Foot  \\\n0         FC Barcelona  €110.5M           Left       RF        4.0   \n1             Juventus     €77M          Right       ST        4.0   \n2  Paris Saint-Germain  €118.5M          Right       LW        5.0   \n3    Manchester United     €72M          Right       GK        3.0   \n4      Manchester City    €102M          Right      RCM        5.0   \n\n   Acceleration  SprintSpeed  Stamina  Strength  LongShots  Aggression  \\\n0          91.0         86.0     72.0      59.0       94.0        48.0   \n1          89.0         91.0     88.0      79.0       93.0        63.0   \n2          94.0         90.0     81.0      49.0       82.0        56.0   \n3          57.0         58.0     43.0      64.0       12.0        38.0   \n4          78.0         76.0     90.0      75.0       91.0        76.0   \n\n   Interceptions  Positioning  Vision  Penalties  \n0           22.0         94.0    94.0       75.0  \n1           29.0         95.0    82.0       85.0  \n2           36.0         89.0    87.0       81.0  \n3           30.0         12.0    68.0       40.0  \n4           61.0         87.0    94.0       79.0  ",
      "text/html": "<div>\n<style scoped>\n    .dataframe tbody tr th:only-of-type {\n        vertical-align: middle;\n    }\n\n    .dataframe tbody tr th {\n        vertical-align: top;\n    }\n\n    .dataframe thead th {\n        text-align: right;\n    }\n</style>\n<table border=\"1\" class=\"dataframe\">\n  <thead>\n    <tr style=\"text-align: right;\">\n      <th></th>\n      <th>Name</th>\n      <th>Age</th>\n      <th>Nationality</th>\n      <th>Overall</th>\n      <th>Potential</th>\n      <th>Club</th>\n      <th>Value</th>\n      <th>Preferred Foot</th>\n      <th>Position</th>\n      <th>Weak Foot</th>\n      <th>Acceleration</th>\n      <th>SprintSpeed</th>\n      <th>Stamina</th>\n      <th>Strength</th>\n      <th>LongShots</th>\n      <th>Aggression</th>\n      <th>Interceptions</th>\n      <th>Positioning</th>\n      <th>Vision</th>\n      <th>Penalties</th>\n    </tr>\n  </thead>\n  <tbody>\n    <tr>\n      <th>0</th>\n      <td>L. Messi</td>\n      <td>31</td>\n      <td>Argentina</td>\n      <td>94</td>\n      <td>94</td>\n      <td>FC Barcelona</td>\n      <td>€110.5M</td>\n      <td>Left</td>\n      <td>RF</td>\n      <td>4.0</td>\n      <td>91.0</td>\n      <td>86.0</td>\n      <td>72.0</td>\n      <td>59.0</td>\n      <td>94.0</td>\n      <td>48.0</td>\n      <td>22.0</td>\n      <td>94.0</td>\n      <td>94.0</td>\n      <td>75.0</td>\n    </tr>\n    <tr>\n      <th>1</th>\n      <td>Cristiano Ronaldo</td>\n      <td>33</td>\n      <td>Portugal</td>\n      <td>94</td>\n      <td>94</td>\n      <td>Juventus</td>\n      <td>€77M</td>\n      <td>Right</td>\n      <td>ST</td>\n      <td>4.0</td>\n      <td>89.0</td>\n      <td>91.0</td>\n      <td>88.0</td>\n      <td>79.0</td>\n      <td>93.0</td>\n      <td>63.0</td>\n      <td>29.0</td>\n      <td>95.0</td>\n      <td>82.0</td>\n      <td>85.0</td>\n    </tr>\n    <tr>\n      <th>2</th>\n      <td>Neymar Jr</td>\n      <td>26</td>\n      <td>Brazil</td>\n      <td>92</td>\n      <td>93</td>\n      <td>Paris Saint-Germain</td>\n      <td>€118.5M</td>\n      <td>Right</td>\n      <td>LW</td>\n      <td>5.0</td>\n      <td>94.0</td>\n      <td>90.0</td>\n      <td>81.0</td>\n      <td>49.0</td>\n      <td>82.0</td>\n      <td>56.0</td>\n      <td>36.0</td>\n      <td>89.0</td>\n      <td>87.0</td>\n      <td>81.0</td>\n    </tr>\n    <tr>\n      <th>3</th>\n      <td>De Gea</td>\n      <td>27</td>\n      <td>Spain</td>\n      <td>91</td>\n      <td>93</td>\n      <td>Manchester United</td>\n      <td>€72M</td>\n      <td>Right</td>\n      <td>GK</td>\n      <td>3.0</td>\n      <td>57.0</td>\n      <td>58.0</td>\n      <td>43.0</td>\n      <td>64.0</td>\n      <td>12.0</td>\n      <td>38.0</td>\n      <td>30.0</td>\n      <td>12.0</td>\n      <td>68.0</td>\n      <td>40.0</td>\n    </tr>\n    <tr>\n      <th>4</th>\n      <td>K. De Bruyne</td>\n      <td>27</td>\n      <td>Belgium</td>\n      <td>91</td>\n      <td>92</td>\n      <td>Manchester City</td>\n      <td>€102M</td>\n      <td>Right</td>\n      <td>RCM</td>\n      <td>5.0</td>\n      <td>78.0</td>\n      <td>76.0</td>\n      <td>90.0</td>\n      <td>75.0</td>\n      <td>91.0</td>\n      <td>76.0</td>\n      <td>61.0</td>\n      <td>87.0</td>\n      <td>94.0</td>\n      <td>79.0</td>\n    </tr>\n  </tbody>\n</table>\n</div>"
     },
     "execution_count": 6,
     "metadata": {},
     "output_type": "execute_result"
    }
   ],
   "source": [
    "# Your code here:\n",
    "fifa.head(5)\n"
   ],
   "metadata": {
    "collapsed": false,
    "pycharm": {
     "name": "#%%\n"
    }
   }
  },
  {
   "cell_type": "markdown",
   "source": [
    "Player's values are expressed in millions of euros. We would like this column to be numeric. Therefore, let's create a numeric value column. Do this by stripping all non-numeric characters from each cell. Assign this new data to `ValueNumeric`. There is no need to multiply the value to be expressed in millions."
   ],
   "metadata": {
    "collapsed": false
   }
  },
  {
   "cell_type": "code",
   "execution_count": 8,
   "outputs": [
    {
     "data": {
      "text/plain": "                     Name  Age Nationality  Overall  Potential  \\\n0                L. Messi   31   Argentina       94         94   \n1       Cristiano Ronaldo   33    Portugal       94         94   \n2               Neymar Jr   26      Brazil       92         93   \n3                  De Gea   27       Spain       91         93   \n4            K. De Bruyne   27     Belgium       91         92   \n...                   ...  ...         ...      ...        ...   \n18202        J. Lundstram   19     England       47         65   \n18203  N. Christoffersson   19      Sweden       47         63   \n18204           B. Worman   16     England       47         67   \n18205      D. Walker-Rice   17     England       47         66   \n18206           G. Nugent   16     England       46         66   \n\n                      Club  Value Preferred Foot Position  Weak Foot  \\\n0             FC Barcelona   1105           Left       RF        4.0   \n1                 Juventus     77          Right       ST        4.0   \n2      Paris Saint-Germain   1185          Right       LW        5.0   \n3        Manchester United     72          Right       GK        3.0   \n4          Manchester City    102          Right      RCM        5.0   \n...                    ...    ...            ...      ...        ...   \n18202      Crewe Alexandra     60          Right       CM        2.0   \n18203       Trelleborgs FF     60          Right       ST        2.0   \n18204     Cambridge United     60          Right       ST        3.0   \n18205      Tranmere Rovers     60          Right       RW        3.0   \n18206      Tranmere Rovers     60          Right       CM        3.0   \n\n       Acceleration  SprintSpeed  Stamina  Strength  LongShots  Aggression  \\\n0              91.0         86.0     72.0      59.0       94.0        48.0   \n1              89.0         91.0     88.0      79.0       93.0        63.0   \n2              94.0         90.0     81.0      49.0       82.0        56.0   \n3              57.0         58.0     43.0      64.0       12.0        38.0   \n4              78.0         76.0     90.0      75.0       91.0        76.0   \n...             ...          ...      ...       ...        ...         ...   \n18202          54.0         57.0     40.0      47.0       38.0        46.0   \n18203          41.0         39.0     43.0      67.0       42.0        47.0   \n18204          70.0         69.0     55.0      32.0       45.0        32.0   \n18205          61.0         60.0     40.0      48.0       34.0        33.0   \n18206          57.0         55.0     47.0      60.0       32.0        56.0   \n\n       Interceptions  Positioning  Vision  Penalties  \n0               22.0         94.0    94.0       75.0  \n1               29.0         95.0    82.0       85.0  \n2               36.0         89.0    87.0       81.0  \n3               30.0         12.0    68.0       40.0  \n4               61.0         87.0    94.0       79.0  \n...              ...          ...     ...        ...  \n18202           46.0         39.0    52.0       43.0  \n18203           16.0         46.0    33.0       43.0  \n18204           15.0         48.0    43.0       55.0  \n18205           22.0         44.0    47.0       50.0  \n18206           42.0         34.0    49.0       33.0  \n\n[18207 rows x 20 columns]",
      "text/html": "<div>\n<style scoped>\n    .dataframe tbody tr th:only-of-type {\n        vertical-align: middle;\n    }\n\n    .dataframe tbody tr th {\n        vertical-align: top;\n    }\n\n    .dataframe thead th {\n        text-align: right;\n    }\n</style>\n<table border=\"1\" class=\"dataframe\">\n  <thead>\n    <tr style=\"text-align: right;\">\n      <th></th>\n      <th>Name</th>\n      <th>Age</th>\n      <th>Nationality</th>\n      <th>Overall</th>\n      <th>Potential</th>\n      <th>Club</th>\n      <th>Value</th>\n      <th>Preferred Foot</th>\n      <th>Position</th>\n      <th>Weak Foot</th>\n      <th>Acceleration</th>\n      <th>SprintSpeed</th>\n      <th>Stamina</th>\n      <th>Strength</th>\n      <th>LongShots</th>\n      <th>Aggression</th>\n      <th>Interceptions</th>\n      <th>Positioning</th>\n      <th>Vision</th>\n      <th>Penalties</th>\n    </tr>\n  </thead>\n  <tbody>\n    <tr>\n      <th>0</th>\n      <td>L. Messi</td>\n      <td>31</td>\n      <td>Argentina</td>\n      <td>94</td>\n      <td>94</td>\n      <td>FC Barcelona</td>\n      <td>1105</td>\n      <td>Left</td>\n      <td>RF</td>\n      <td>4.0</td>\n      <td>91.0</td>\n      <td>86.0</td>\n      <td>72.0</td>\n      <td>59.0</td>\n      <td>94.0</td>\n      <td>48.0</td>\n      <td>22.0</td>\n      <td>94.0</td>\n      <td>94.0</td>\n      <td>75.0</td>\n    </tr>\n    <tr>\n      <th>1</th>\n      <td>Cristiano Ronaldo</td>\n      <td>33</td>\n      <td>Portugal</td>\n      <td>94</td>\n      <td>94</td>\n      <td>Juventus</td>\n      <td>77</td>\n      <td>Right</td>\n      <td>ST</td>\n      <td>4.0</td>\n      <td>89.0</td>\n      <td>91.0</td>\n      <td>88.0</td>\n      <td>79.0</td>\n      <td>93.0</td>\n      <td>63.0</td>\n      <td>29.0</td>\n      <td>95.0</td>\n      <td>82.0</td>\n      <td>85.0</td>\n    </tr>\n    <tr>\n      <th>2</th>\n      <td>Neymar Jr</td>\n      <td>26</td>\n      <td>Brazil</td>\n      <td>92</td>\n      <td>93</td>\n      <td>Paris Saint-Germain</td>\n      <td>1185</td>\n      <td>Right</td>\n      <td>LW</td>\n      <td>5.0</td>\n      <td>94.0</td>\n      <td>90.0</td>\n      <td>81.0</td>\n      <td>49.0</td>\n      <td>82.0</td>\n      <td>56.0</td>\n      <td>36.0</td>\n      <td>89.0</td>\n      <td>87.0</td>\n      <td>81.0</td>\n    </tr>\n    <tr>\n      <th>3</th>\n      <td>De Gea</td>\n      <td>27</td>\n      <td>Spain</td>\n      <td>91</td>\n      <td>93</td>\n      <td>Manchester United</td>\n      <td>72</td>\n      <td>Right</td>\n      <td>GK</td>\n      <td>3.0</td>\n      <td>57.0</td>\n      <td>58.0</td>\n      <td>43.0</td>\n      <td>64.0</td>\n      <td>12.0</td>\n      <td>38.0</td>\n      <td>30.0</td>\n      <td>12.0</td>\n      <td>68.0</td>\n      <td>40.0</td>\n    </tr>\n    <tr>\n      <th>4</th>\n      <td>K. De Bruyne</td>\n      <td>27</td>\n      <td>Belgium</td>\n      <td>91</td>\n      <td>92</td>\n      <td>Manchester City</td>\n      <td>102</td>\n      <td>Right</td>\n      <td>RCM</td>\n      <td>5.0</td>\n      <td>78.0</td>\n      <td>76.0</td>\n      <td>90.0</td>\n      <td>75.0</td>\n      <td>91.0</td>\n      <td>76.0</td>\n      <td>61.0</td>\n      <td>87.0</td>\n      <td>94.0</td>\n      <td>79.0</td>\n    </tr>\n    <tr>\n      <th>...</th>\n      <td>...</td>\n      <td>...</td>\n      <td>...</td>\n      <td>...</td>\n      <td>...</td>\n      <td>...</td>\n      <td>...</td>\n      <td>...</td>\n      <td>...</td>\n      <td>...</td>\n      <td>...</td>\n      <td>...</td>\n      <td>...</td>\n      <td>...</td>\n      <td>...</td>\n      <td>...</td>\n      <td>...</td>\n      <td>...</td>\n      <td>...</td>\n      <td>...</td>\n    </tr>\n    <tr>\n      <th>18202</th>\n      <td>J. Lundstram</td>\n      <td>19</td>\n      <td>England</td>\n      <td>47</td>\n      <td>65</td>\n      <td>Crewe Alexandra</td>\n      <td>60</td>\n      <td>Right</td>\n      <td>CM</td>\n      <td>2.0</td>\n      <td>54.0</td>\n      <td>57.0</td>\n      <td>40.0</td>\n      <td>47.0</td>\n      <td>38.0</td>\n      <td>46.0</td>\n      <td>46.0</td>\n      <td>39.0</td>\n      <td>52.0</td>\n      <td>43.0</td>\n    </tr>\n    <tr>\n      <th>18203</th>\n      <td>N. Christoffersson</td>\n      <td>19</td>\n      <td>Sweden</td>\n      <td>47</td>\n      <td>63</td>\n      <td>Trelleborgs FF</td>\n      <td>60</td>\n      <td>Right</td>\n      <td>ST</td>\n      <td>2.0</td>\n      <td>41.0</td>\n      <td>39.0</td>\n      <td>43.0</td>\n      <td>67.0</td>\n      <td>42.0</td>\n      <td>47.0</td>\n      <td>16.0</td>\n      <td>46.0</td>\n      <td>33.0</td>\n      <td>43.0</td>\n    </tr>\n    <tr>\n      <th>18204</th>\n      <td>B. Worman</td>\n      <td>16</td>\n      <td>England</td>\n      <td>47</td>\n      <td>67</td>\n      <td>Cambridge United</td>\n      <td>60</td>\n      <td>Right</td>\n      <td>ST</td>\n      <td>3.0</td>\n      <td>70.0</td>\n      <td>69.0</td>\n      <td>55.0</td>\n      <td>32.0</td>\n      <td>45.0</td>\n      <td>32.0</td>\n      <td>15.0</td>\n      <td>48.0</td>\n      <td>43.0</td>\n      <td>55.0</td>\n    </tr>\n    <tr>\n      <th>18205</th>\n      <td>D. Walker-Rice</td>\n      <td>17</td>\n      <td>England</td>\n      <td>47</td>\n      <td>66</td>\n      <td>Tranmere Rovers</td>\n      <td>60</td>\n      <td>Right</td>\n      <td>RW</td>\n      <td>3.0</td>\n      <td>61.0</td>\n      <td>60.0</td>\n      <td>40.0</td>\n      <td>48.0</td>\n      <td>34.0</td>\n      <td>33.0</td>\n      <td>22.0</td>\n      <td>44.0</td>\n      <td>47.0</td>\n      <td>50.0</td>\n    </tr>\n    <tr>\n      <th>18206</th>\n      <td>G. Nugent</td>\n      <td>16</td>\n      <td>England</td>\n      <td>46</td>\n      <td>66</td>\n      <td>Tranmere Rovers</td>\n      <td>60</td>\n      <td>Right</td>\n      <td>CM</td>\n      <td>3.0</td>\n      <td>57.0</td>\n      <td>55.0</td>\n      <td>47.0</td>\n      <td>60.0</td>\n      <td>32.0</td>\n      <td>56.0</td>\n      <td>42.0</td>\n      <td>34.0</td>\n      <td>49.0</td>\n      <td>33.0</td>\n    </tr>\n  </tbody>\n</table>\n<p>18207 rows × 20 columns</p>\n</div>"
     },
     "execution_count": 8,
     "metadata": {},
     "output_type": "execute_result"
    }
   ],
   "source": [
    "# Your code here:\n",
    "\n",
    "fifa.Value = fifa.Value.str.replace(r'\\D+', '').astype(int)\n",
    "fifa"
   ],
   "metadata": {
    "collapsed": false,
    "pycharm": {
     "name": "#%%\n"
    }
   }
  },
  {
   "cell_type": "markdown",
   "source": [
    "#### We'd like to determine whether a player's preffered foot and position have an impact on their value.\n",
    "\n",
    "Using the `statsmodels` library, we are able to produce an ANOVA table without munging our data. Create an ANOVA table with value as a function of position and preferred foot. Recall that pivoting is performed by the `C` function.\n",
    "\n",
    "Hint: For columns that have a space in their name, it is best to refer to the column using the dataframe (For example: for column `A`, we will use `df['A']`)."
   ],
   "metadata": {
    "collapsed": false
   }
  },
  {
   "cell_type": "code",
   "execution_count": 10,
   "outputs": [
    {
     "data": {
      "text/plain": "                                 sum_sq       df         F        PR(>F)\nC(fifa[\"Preferred Foot\"])  1.037326e+05      1.0  1.306786  2.529926e-01\nC(fifa[\"Position\"])        7.102107e+06     26.0  3.441145  7.183107e-09\nResidual                   1.438286e+09  18119.0       NaN           NaN",
      "text/html": "<div>\n<style scoped>\n    .dataframe tbody tr th:only-of-type {\n        vertical-align: middle;\n    }\n\n    .dataframe tbody tr th {\n        vertical-align: top;\n    }\n\n    .dataframe thead th {\n        text-align: right;\n    }\n</style>\n<table border=\"1\" class=\"dataframe\">\n  <thead>\n    <tr style=\"text-align: right;\">\n      <th></th>\n      <th>sum_sq</th>\n      <th>df</th>\n      <th>F</th>\n      <th>PR(&gt;F)</th>\n    </tr>\n  </thead>\n  <tbody>\n    <tr>\n      <th>C(fifa[\"Preferred Foot\"])</th>\n      <td>1.037326e+05</td>\n      <td>1.0</td>\n      <td>1.306786</td>\n      <td>2.529926e-01</td>\n    </tr>\n    <tr>\n      <th>C(fifa[\"Position\"])</th>\n      <td>7.102107e+06</td>\n      <td>26.0</td>\n      <td>3.441145</td>\n      <td>7.183107e-09</td>\n    </tr>\n    <tr>\n      <th>Residual</th>\n      <td>1.438286e+09</td>\n      <td>18119.0</td>\n      <td>NaN</td>\n      <td>NaN</td>\n    </tr>\n  </tbody>\n</table>\n</div>"
     },
     "execution_count": 10,
     "metadata": {},
     "output_type": "execute_result"
    }
   ],
   "source": [
    "# Your code here:\n",
    "import statsmodels.api as sm\n",
    "from statsmodels.formula.api import ols # ordinary least squares\n",
    "\n",
    "formula = 'fifa[\"Value\"] ~ C(fifa[\"Preferred Foot\"])+ C(fifa[\"Position\"])'\n",
    "model = ols(formula=formula, data=fifa).fit()\n",
    "anova_table = sm.stats.anova_lm(model, typ='II')\n",
    "anova_table\n"
   ],
   "metadata": {
    "collapsed": false,
    "pycharm": {
     "name": "#%%\n"
    }
   }
  },
  {
   "cell_type": "markdown",
   "source": [
    "What is your conclusion from this ANOVA?"
   ],
   "metadata": {
    "collapsed": false
   }
  },
  {
   "cell_type": "code",
   "execution_count": null,
   "outputs": [],
   "source": [
    "# Your conclusions here:\n",
    "#En el caso de la pierna preferida se podrìa concluir que las medias poblacionales sn iguales; no obstante\n",
    "#en el caso de la posiciòn no es asì.\n"
   ],
   "metadata": {
    "collapsed": false,
    "pycharm": {
     "name": "#%%\n"
    }
   }
  },
  {
   "cell_type": "markdown",
   "source": [
    "After looking at a model of both preffered foot and position, we decide to create an ANOVA table for nationality. Create an ANOVA table for numeric value as a function of nationality."
   ],
   "metadata": {
    "collapsed": false
   }
  },
  {
   "cell_type": "code",
   "execution_count": 11,
   "outputs": [
    {
     "data": {
      "text/plain": "                              sum_sq       df         F        PR(>F)\nC(fifa[\"Nationality\"])  3.698983e+07    163.0  2.902609  2.051848e-31\nResidual                1.410636e+09  18043.0       NaN           NaN",
      "text/html": "<div>\n<style scoped>\n    .dataframe tbody tr th:only-of-type {\n        vertical-align: middle;\n    }\n\n    .dataframe tbody tr th {\n        vertical-align: top;\n    }\n\n    .dataframe thead th {\n        text-align: right;\n    }\n</style>\n<table border=\"1\" class=\"dataframe\">\n  <thead>\n    <tr style=\"text-align: right;\">\n      <th></th>\n      <th>sum_sq</th>\n      <th>df</th>\n      <th>F</th>\n      <th>PR(&gt;F)</th>\n    </tr>\n  </thead>\n  <tbody>\n    <tr>\n      <th>C(fifa[\"Nationality\"])</th>\n      <td>3.698983e+07</td>\n      <td>163.0</td>\n      <td>2.902609</td>\n      <td>2.051848e-31</td>\n    </tr>\n    <tr>\n      <th>Residual</th>\n      <td>1.410636e+09</td>\n      <td>18043.0</td>\n      <td>NaN</td>\n      <td>NaN</td>\n    </tr>\n  </tbody>\n</table>\n</div>"
     },
     "execution_count": 11,
     "metadata": {},
     "output_type": "execute_result"
    }
   ],
   "source": [
    "# Your code here:\n",
    "formula = 'fifa[\"Value\"] ~ C(fifa[\"Nationality\"])'\n",
    "model = ols(formula=formula, data=fifa).fit()\n",
    "anova_table = sm.stats.anova_lm(model, typ='II')\n",
    "anova_table\n"
   ],
   "metadata": {
    "collapsed": false,
    "pycharm": {
     "name": "#%%\n"
    }
   }
  },
  {
   "cell_type": "markdown",
   "source": [
    "What is your conclusion from this ANOVA?\n",
    "\n",
    "La media poblacional entre  las nacionalidades tienden a ser iguales;"
   ],
   "metadata": {
    "collapsed": false
   }
  },
  {
   "cell_type": "markdown",
   "source": [
    "# Challenge 2 - Linear Regression\n",
    "\n",
    "Our goal with using linear regression is to create a mathematical model that will enable us to predict the outcome of one variable using one or more additional independent variables.\n",
    "\n",
    "We'll start by ensuring there are no missing values. Examine all variables for all missing values. If there are missing values in a row, remove the entire row."
   ],
   "metadata": {
    "collapsed": false
   }
  },
  {
   "cell_type": "code",
   "execution_count": 15,
   "outputs": [
    {
     "data": {
      "text/plain": "Name              0\nAge               0\nNationality       0\nOverall           0\nPotential         0\nClub              0\nValue             0\nPreferred Foot    0\nPosition          0\nWeak Foot         0\nAcceleration      0\nSprintSpeed       0\nStamina           0\nStrength          0\nLongShots         0\nAggression        0\nInterceptions     0\nPositioning       0\nVision            0\nPenalties         0\ndtype: int64"
     },
     "execution_count": 15,
     "metadata": {},
     "output_type": "execute_result"
    }
   ],
   "source": [
    "# Your code here:\n",
    "fifa.isnull().sum()\n",
    "fifa= fifa.dropna()\n",
    "fifa.head()\n",
    "\n",
    "fifa.isnull().sum()\n",
    "fifa.shape"
   ],
   "metadata": {
    "collapsed": false,
    "pycharm": {
     "name": "#%%\n"
    }
   }
  },
  {
   "cell_type": "markdown",
   "source": [
    "Using the FIFA dataset, in the cell below, create a linear model predicting value using stamina and sprint speed. create the model using `statsmodels`. Print the model summary.\n",
    "\n",
    "Hint: remember to add an intercept to the model using the `add_constant` function."
   ],
   "metadata": {
    "collapsed": false
   }
  },
  {
   "cell_type": "code",
   "execution_count": 16,
   "outputs": [
    {
     "data": {
      "text/plain": "<class 'statsmodels.iolib.summary.Summary'>\n\"\"\"\n                            OLS Regression Results                            \n==============================================================================\nDep. Variable:                  Value   R-squared:                       0.000\nModel:                            OLS   Adj. R-squared:                  0.000\nMethod:                 Least Squares   F-statistic:                     3.045\nDate:                Sat, 04 Jul 2020   Prob (F-statistic):             0.0476\nTime:                        20:50:56   Log-Likelihood:            -1.2653e+05\nNo. Observations:               17918   AIC:                         2.531e+05\nDf Residuals:                   17915   BIC:                         2.531e+05\nDf Model:                           2                                         \nCovariance Type:            nonrobust                                         \n===============================================================================\n                  coef    std err          t      P>|t|      [0.025      0.975]\n-------------------------------------------------------------------------------\nconst         264.6097     10.110     26.172      0.000     244.793     284.427\nStamina        -0.2204      0.169     -1.304      0.192      -0.552       0.111\nSprintSpeed     0.4492      0.183      2.453      0.014       0.090       0.808\n==============================================================================\nOmnibus:                     2004.473   Durbin-Watson:                   1.018\nProb(Omnibus):                  0.000   Jarque-Bera (JB):             2285.176\nSkew:                           0.834   Prob(JB):                         0.00\nKurtosis:                       2.470   Cond. No.                         444.\n==============================================================================\n\nWarnings:\n[1] Standard Errors assume that the covariance matrix of the errors is correctly specified.\n\"\"\"",
      "text/html": "<table class=\"simpletable\">\n<caption>OLS Regression Results</caption>\n<tr>\n  <th>Dep. Variable:</th>          <td>Value</td>      <th>  R-squared:         </th>  <td>   0.000</td>  \n</tr>\n<tr>\n  <th>Model:</th>                   <td>OLS</td>       <th>  Adj. R-squared:    </th>  <td>   0.000</td>  \n</tr>\n<tr>\n  <th>Method:</th>             <td>Least Squares</td>  <th>  F-statistic:       </th>  <td>   3.045</td>  \n</tr>\n<tr>\n  <th>Date:</th>             <td>Sat, 04 Jul 2020</td> <th>  Prob (F-statistic):</th>   <td>0.0476</td>   \n</tr>\n<tr>\n  <th>Time:</th>                 <td>20:50:56</td>     <th>  Log-Likelihood:    </th> <td>-1.2653e+05</td>\n</tr>\n<tr>\n  <th>No. Observations:</th>      <td> 17918</td>      <th>  AIC:               </th>  <td>2.531e+05</td> \n</tr>\n<tr>\n  <th>Df Residuals:</th>          <td> 17915</td>      <th>  BIC:               </th>  <td>2.531e+05</td> \n</tr>\n<tr>\n  <th>Df Model:</th>              <td>     2</td>      <th>                     </th>      <td> </td>     \n</tr>\n<tr>\n  <th>Covariance Type:</th>      <td>nonrobust</td>    <th>                     </th>      <td> </td>     \n</tr>\n</table>\n<table class=\"simpletable\">\n<tr>\n       <td></td>          <th>coef</th>     <th>std err</th>      <th>t</th>      <th>P>|t|</th>  <th>[0.025</th>    <th>0.975]</th>  \n</tr>\n<tr>\n  <th>const</th>       <td>  264.6097</td> <td>   10.110</td> <td>   26.172</td> <td> 0.000</td> <td>  244.793</td> <td>  284.427</td>\n</tr>\n<tr>\n  <th>Stamina</th>     <td>   -0.2204</td> <td>    0.169</td> <td>   -1.304</td> <td> 0.192</td> <td>   -0.552</td> <td>    0.111</td>\n</tr>\n<tr>\n  <th>SprintSpeed</th> <td>    0.4492</td> <td>    0.183</td> <td>    2.453</td> <td> 0.014</td> <td>    0.090</td> <td>    0.808</td>\n</tr>\n</table>\n<table class=\"simpletable\">\n<tr>\n  <th>Omnibus:</th>       <td>2004.473</td> <th>  Durbin-Watson:     </th> <td>   1.018</td>\n</tr>\n<tr>\n  <th>Prob(Omnibus):</th>  <td> 0.000</td>  <th>  Jarque-Bera (JB):  </th> <td>2285.176</td>\n</tr>\n<tr>\n  <th>Skew:</th>           <td> 0.834</td>  <th>  Prob(JB):          </th> <td>    0.00</td>\n</tr>\n<tr>\n  <th>Kurtosis:</th>       <td> 2.470</td>  <th>  Cond. No.          </th> <td>    444.</td>\n</tr>\n</table><br/><br/>Warnings:<br/>[1] Standard Errors assume that the covariance matrix of the errors is correctly specified."
     },
     "execution_count": 16,
     "metadata": {},
     "output_type": "execute_result"
    }
   ],
   "source": [
    "# Your code here:\n",
    "\n",
    "X = sm.add_constant(fifa[['Stamina', 'SprintSpeed']])\n",
    "Y = fifa['Value']\n",
    "model = sm.OLS(Y, X).fit()\n",
    "predictions = model.predict(X)\n",
    "model.summary()"
   ],
   "metadata": {
    "collapsed": false,
    "pycharm": {
     "name": "#%%\n"
    }
   }
  },
  {
   "cell_type": "markdown",
   "source": [
    "Report your findings from the model summary. In particular, report about the model as a whole using the F-test and how much variation is predicted by the model using the r squared."
   ],
   "metadata": {
    "collapsed": false
   }
  },
  {
   "cell_type": "code",
   "execution_count": null,
   "outputs": [],
   "source": [
    "# Your conclusions here:\n",
    "\n",
    "#Debido a que r cuadrada es cero se podrìa concluir que cualquier variaciòn en la stamina y la velocidad del sprint inciden en el valor del jugador"
   ],
   "metadata": {
    "collapsed": false,
    "pycharm": {
     "name": "#%%\n"
    }
   }
  },
  {
   "cell_type": "markdown",
   "source": [
    "Next, create a second regression model predicting value using potential. Create the model using `statsmodels` and print the model summary. Remember to add a constant term."
   ],
   "metadata": {
    "collapsed": false
   }
  },
  {
   "cell_type": "code",
   "execution_count": 17,
   "outputs": [
    {
     "data": {
      "text/plain": "<class 'statsmodels.iolib.summary.Summary'>\n\"\"\"\n                            OLS Regression Results                            \n==============================================================================\nDep. Variable:                  Value   R-squared:                       0.035\nModel:                            OLS   Adj. R-squared:                  0.035\nMethod:                 Least Squares   F-statistic:                     659.1\nDate:                Sat, 04 Jul 2020   Prob (F-statistic):          8.77e-143\nTime:                        20:52:42   Log-Likelihood:            -1.2621e+05\nNo. Observations:               17918   AIC:                         2.524e+05\nDf Residuals:                   17916   BIC:                         2.524e+05\nDf Model:                           1                                         \nCovariance Type:            nonrobust                                         \n==============================================================================\n                 coef    std err          t      P>|t|      [0.025      0.975]\n------------------------------------------------------------------------------\nconst        897.1573     24.137     37.169      0.000     849.845     944.469\nPotential     -8.6557      0.337    -25.673      0.000      -9.317      -7.995\n==============================================================================\nOmnibus:                     1987.498   Durbin-Watson:                   1.111\nProb(Omnibus):                  0.000   Jarque-Bera (JB):             2670.352\nSkew:                           0.937   Prob(JB):                         0.00\nKurtosis:                       2.740   Cond. No.                         834.\n==============================================================================\n\nWarnings:\n[1] Standard Errors assume that the covariance matrix of the errors is correctly specified.\n\"\"\"",
      "text/html": "<table class=\"simpletable\">\n<caption>OLS Regression Results</caption>\n<tr>\n  <th>Dep. Variable:</th>          <td>Value</td>      <th>  R-squared:         </th>  <td>   0.035</td>  \n</tr>\n<tr>\n  <th>Model:</th>                   <td>OLS</td>       <th>  Adj. R-squared:    </th>  <td>   0.035</td>  \n</tr>\n<tr>\n  <th>Method:</th>             <td>Least Squares</td>  <th>  F-statistic:       </th>  <td>   659.1</td>  \n</tr>\n<tr>\n  <th>Date:</th>             <td>Sat, 04 Jul 2020</td> <th>  Prob (F-statistic):</th>  <td>8.77e-143</td> \n</tr>\n<tr>\n  <th>Time:</th>                 <td>20:52:42</td>     <th>  Log-Likelihood:    </th> <td>-1.2621e+05</td>\n</tr>\n<tr>\n  <th>No. Observations:</th>      <td> 17918</td>      <th>  AIC:               </th>  <td>2.524e+05</td> \n</tr>\n<tr>\n  <th>Df Residuals:</th>          <td> 17916</td>      <th>  BIC:               </th>  <td>2.524e+05</td> \n</tr>\n<tr>\n  <th>Df Model:</th>              <td>     1</td>      <th>                     </th>      <td> </td>     \n</tr>\n<tr>\n  <th>Covariance Type:</th>      <td>nonrobust</td>    <th>                     </th>      <td> </td>     \n</tr>\n</table>\n<table class=\"simpletable\">\n<tr>\n      <td></td>         <th>coef</th>     <th>std err</th>      <th>t</th>      <th>P>|t|</th>  <th>[0.025</th>    <th>0.975]</th>  \n</tr>\n<tr>\n  <th>const</th>     <td>  897.1573</td> <td>   24.137</td> <td>   37.169</td> <td> 0.000</td> <td>  849.845</td> <td>  944.469</td>\n</tr>\n<tr>\n  <th>Potential</th> <td>   -8.6557</td> <td>    0.337</td> <td>  -25.673</td> <td> 0.000</td> <td>   -9.317</td> <td>   -7.995</td>\n</tr>\n</table>\n<table class=\"simpletable\">\n<tr>\n  <th>Omnibus:</th>       <td>1987.498</td> <th>  Durbin-Watson:     </th> <td>   1.111</td>\n</tr>\n<tr>\n  <th>Prob(Omnibus):</th>  <td> 0.000</td>  <th>  Jarque-Bera (JB):  </th> <td>2670.352</td>\n</tr>\n<tr>\n  <th>Skew:</th>           <td> 0.937</td>  <th>  Prob(JB):          </th> <td>    0.00</td>\n</tr>\n<tr>\n  <th>Kurtosis:</th>       <td> 2.740</td>  <th>  Cond. No.          </th> <td>    834.</td>\n</tr>\n</table><br/><br/>Warnings:<br/>[1] Standard Errors assume that the covariance matrix of the errors is correctly specified."
     },
     "execution_count": 17,
     "metadata": {},
     "output_type": "execute_result"
    }
   ],
   "source": [
    "# Your code here:\n",
    "\n",
    "X = sm.add_constant(fifa['Potential'])\n",
    "Y = fifa['Value']\n",
    "model = sm.OLS(Y, X).fit()\n",
    "predictions = model.predict(X)\n",
    "model.summary()"
   ],
   "metadata": {
    "collapsed": false,
    "pycharm": {
     "name": "#%%\n"
    }
   }
  },
  {
   "cell_type": "markdown",
   "source": [
    "Report your findings from the model summary. In particular, report about the model as a whole using the F-test and how much variation is predicted by the model using the r squared."
   ],
   "metadata": {
    "collapsed": false
   }
  },
  {
   "cell_type": "code",
   "execution_count": null,
   "outputs": [],
   "source": [
    "# Your conclusions here:\n",
    "#Debido a que r cuadrada se aproxima a cero se podrìa concluir que cualquier percepciòn de potencial incide ligeramente en el valor del jugador\n",
    "\n"
   ],
   "metadata": {
    "collapsed": false,
    "pycharm": {
     "name": "#%%\n"
    }
   }
  },
  {
   "cell_type": "markdown",
   "source": [
    "Plot a scatter plot of value vs. potential. Do you see a linear relationship?"
   ],
   "metadata": {
    "collapsed": false
   }
  },
  {
   "cell_type": "code",
   "execution_count": 26,
   "outputs": [
    {
     "data": {
      "text/plain": "<module 'matplotlib.pyplot' from 'c:\\\\users\\\\josea\\\\appdata\\\\local\\\\programs\\\\python\\\\python38-32\\\\lib\\\\site-packages\\\\matplotlib\\\\pyplot.py'>"
     },
     "execution_count": 26,
     "metadata": {},
     "output_type": "execute_result"
    },
    {
     "data": {
      "text/plain": "<Figure size 432x288 with 1 Axes>",
      "image/png": "[encoded data removed]"
     },
     "metadata": {
      "needs_background": "light"
     },
     "output_type": "display_data"
    }
   ],
   "source": [
    "# Your code here:\n",
    "import matplotlib.pyplot as plt\n",
    "plt.scatter(fifa.Value, fifa.Potential);\n",
    "plt\n",
    "\n"
   ],
   "metadata": {
    "collapsed": false,
    "pycharm": {
     "name": "#%%\n"
    }
   }
  },
  {
   "cell_type": "code",
   "execution_count": null,
   "outputs": [],
   "source": [
    "\n",
    "\n",
    "\n"
   ],
   "metadata": {
    "collapsed": false,
    "pycharm": {
     "name": "#%%\n"
    }
   }
  }
 ],
 "metadata": {
  "kernelspec": {
   "display_name": "Python 3",
   "language": "python",
   "name": "python3"
  },
  "language_info": {
   "codemirror_mode": {
    "name": "ipython",
    "version": 2
   },
   "file_extension": ".py",
   "mimetype": "text/x-python",
   "name": "python",
   "nbconvert_exporter": "python",
   "pygments_lexer": "ipython2",
   "version": "2.7.6"
  }
 },
 "nbformat": 4,
 "nbformat_minor": 0
}